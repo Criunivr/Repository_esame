{
  "nbformat": 4,
  "nbformat_minor": 0,
  "metadata": {
    "colab": {
      "name": "SA_VSM_ita.ipynb",
      "provenance": []
    },
    "kernelspec": {
      "name": "python3",
      "display_name": "Python 3"
    },
    "language_info": {
      "name": "python"
    }
  },
  "cells": [
    {
      "cell_type": "markdown",
      "source": [
        "# Build Sentiment Dictionaries from VSMs\n",
        "\n",
        "This script allows you to create your own Sentiment Dictionary using Vector Space Models"
      ],
      "metadata": {
        "id": "RFe3xDyK6px1"
      }
    },
    {
      "cell_type": "markdown",
      "source": [
        "## 1. Preparation\n",
        "\n",
        "Download the model.  \n",
        "You can select any model from here: https://fasttext.cc/docs/en/crawl-vectors.html"
      ],
      "metadata": {
        "id": "9wv7zBLw64I_"
      }
    },
    {
      "cell_type": "code",
      "execution_count": 4,
      "metadata": {
        "id": "zfbBGs-35NI5"
      },
      "outputs": [],
      "source": [
        "import os\n",
        "import gensim\n",
        "import urllib.request\n",
        "import os.path\n",
        "import pandas\n",
        "import numpy as np\n",
        "import scipy.stats as stats"
      ]
    },
    {
      "cell_type": "code",
      "source": [
        "# here we download the model\n",
        "# remember to change URL and filename according to the model you want \n",
        "# here we do a test with the French model, named \"cc.fr.300.vec.gz\"\n",
        "\n",
        "!wget \"https://dl.fbaipublicfiles.com/fasttext/vectors-crawl/cc.it.300.vec.gz\"\n"
      ],
      "metadata": {
        "colab": {
          "base_uri": "https://localhost:8080/"
        },
        "id": "5s4E6zBQ5rb-",
        "outputId": "f89543d6-d9e1-40d2-c50d-5263f9322b2d"
      },
      "execution_count": 5,
      "outputs": [
        {
          "output_type": "stream",
          "name": "stdout",
          "text": [
            "--2022-06-07 12:52:02--  https://dl.fbaipublicfiles.com/fasttext/vectors-crawl/cc.it.300.vec.gz\n",
            "Resolving dl.fbaipublicfiles.com (dl.fbaipublicfiles.com)... 104.22.74.142, 172.67.9.4, 104.22.75.142, ...\n",
            "Connecting to dl.fbaipublicfiles.com (dl.fbaipublicfiles.com)|104.22.74.142|:443... connected.\n",
            "HTTP request sent, awaiting response... 200 OK\n",
            "Length: 1272825284 (1.2G) [binary/octet-stream]\n",
            "Saving to: ‘cc.it.300.vec.gz’\n",
            "\n",
            "cc.it.300.vec.gz    100%[===================>]   1.18G  40.3MB/s    in 26s     \n",
            "\n",
            "2022-06-07 12:52:29 (46.1 MB/s) - ‘cc.it.300.vec.gz’ saved [1272825284/1272825284]\n",
            "\n"
          ]
        }
      ]
    },
    {
      "cell_type": "code",
      "source": [
        "!gunzip cc.it.300.vec.gz"
      ],
      "metadata": {
        "id": "45V3dpnquibC"
      },
      "execution_count": 6,
      "outputs": []
    },
    {
      "cell_type": "code",
      "source": [
        "# remember to change the filename according to the model you downloaded \n",
        "# here we do a test with the French model, named \"cc.fr.300.vec\" (note that \".gz\" is not in the name anymore, as we unzipped the file)\n",
        "\n",
        "filename = 'cc.it.300.vec'\n",
        "\n",
        "my_model = gensim.models.KeyedVectors.load_word2vec_format(filename, binary=False)"
      ],
      "metadata": {
        "id": "nfFntLbU5Srw"
      },
      "execution_count": 8,
      "outputs": []
    },
    {
      "cell_type": "markdown",
      "source": [
        "## 2. Prepare SA lexicon\n",
        "\n",
        "Here you need to define the \"seed words\" for your lexicon.  \n",
        "Here we test it with two dimensions, \"happy\" and \"cibononbuono\" (but you can use many different dimensions). "
      ],
      "metadata": {
        "id": "mvZBmncz8dL5"
      }
    },
    {
      "cell_type": "code",
      "source": [
        "cibobuono_labels = ['delizioso','buono','qualità','buonissimo','fantastico'] # note that you can add how many words you like!\n",
        "cibononbuono_labels = ['cattivo','scadente','deludente','disgustoso','orrendo','pessimo'] # note that you can add how many words you like!\n",
        "localeaccogliente_labels = ['pulito','ordinato','spazioso','grande','ampio'] # note that you can add how many words you like!\n",
        "localenonaccogliente_labels = ['sporco','disordinato','piccolo','maleodorante','caotico'] # note that you can add how many words you like!\n",
        "personaleprofessionale_labels = ['gentile','cortese','accogliente','attento','disponibile','veloce','rapido','educato','sorridente'] # note that you can add how many words you like!\n",
        "personalenonprofessionale_labels = ['freddo','distaccato','indisponente','scontroso','disattento','lento','maleducato','disorganizzato'] # note that you can add how many words you like!\n",
        "prezzogiusto_labels = ['onesto','economico','giusto','abbordabile'] # note that you can add how many words you like!\n",
        "prezzoingiusto_labels = ['disonesto','esagerato','dispendioso','altissimo','alto','costoso'] # note that you can add how many words you like!\n",
        "\n",
        "all_words = list(my_model.vocab.keys())"
      ],
      "metadata": {
        "id": "n6Uyw3Dx80Lv"
      },
      "execution_count": 9,
      "outputs": []
    },
    {
      "cell_type": "code",
      "source": [
        "cibobuono_ordered_words = my_model.most_similar(positive = cibobuono_labels, topn = len(all_words))\n",
        "cibononbuono_ordered_words = my_model.most_similar(positive = cibononbuono_labels, topn = len(all_words))\n",
        "localeaccogliente_ordered_words = my_model.most_similar(positive = localeaccogliente_labels, topn = len(all_words))\n",
        "localenonaccogliente_ordered_words = my_model.most_similar(positive = localenonaccogliente_labels, topn = len(all_words))\n",
        "personaleprofessionale_ordered_words = my_model.most_similar(positive = personaleprofessionale_labels, topn = len(all_words))\n",
        "personalenonprofessionale_ordered_words = my_model.most_similar(positive = personalenonprofessionale_labels, topn = len(all_words))\n",
        "prezzogiusto_ordered_words = my_model.most_similar(positive = prezzogiusto_labels, topn = len(all_words))\n",
        "prezzoingiusto_ordered_words = my_model.most_similar(positive = prezzoingiusto_labels, topn = len(all_words))\n",
        "# you can add more categories, if you like..."
      ],
      "metadata": {
        "id": "S0hEW4UX9N06"
      },
      "execution_count": 10,
      "outputs": []
    },
    {
      "cell_type": "code",
      "source": [
        "# cibobuono\n",
        "cibobuono_words = []\n",
        "cibobuono_value = []\n",
        "\n",
        "for my_tuple in cibobuono_ordered_words:\n",
        "  cibobuono_words.append(my_tuple[0])\n",
        "  cibobuono_value.append(my_tuple[1])\n",
        "\n",
        "# cibononbuono\n",
        "cibononbuono_words = []\n",
        "cibononbuono_value = []\n",
        "\n",
        "for my_tuple in cibononbuono_ordered_words:\n",
        "  cibononbuono_words.append(my_tuple[0])\n",
        "  cibononbuono_value.append(my_tuple[1])\n",
        "\n",
        "# localeaccogliente\n",
        "localeaccogliente_words = []\n",
        "localeaccogliente_value = []\n",
        "\n",
        "for my_tuple in localeaccogliente_ordered_words:\n",
        "  localeaccogliente_words.append(my_tuple[0])\n",
        "  localeaccogliente_value.append(my_tuple[1])\n",
        "\n",
        "# localenonaccogliente\n",
        "localenonaccogliente_words = []\n",
        "localenonaccogliente_value = []\n",
        "\n",
        "for my_tuple in localenonaccogliente_ordered_words:\n",
        "  localenonaccogliente_words.append(my_tuple[0])\n",
        "  localenonaccogliente_value.append(my_tuple[1])\n",
        "\n",
        "# personaleprofessionale\n",
        "personaleprofessionale_words = []\n",
        "personaleprofessionale_value = []\n",
        "\n",
        "for my_tuple in personaleprofessionale_ordered_words:\n",
        "  personaleprofessionale_words.append(my_tuple[0])\n",
        "  personaleprofessionale_value.append(my_tuple[1])\n",
        "\n",
        "# personalenonprofessionale\n",
        "personalenonprofessionale_words = []\n",
        "personalenonprofessionale_value = []\n",
        "\n",
        "for my_tuple in personalenonprofessionale_ordered_words:\n",
        "  personalenonprofessionale_words.append(my_tuple[0])\n",
        "  personalenonprofessionale_value.append(my_tuple[1])\n",
        "\n",
        "  # prezzogiusto\n",
        "prezzogiusto_words = []\n",
        "prezzogiusto_value = []\n",
        "\n",
        "for my_tuple in prezzogiusto_ordered_words:\n",
        "  prezzogiusto_words.append(my_tuple[0])\n",
        "  prezzogiusto_value.append(my_tuple[1])\n",
        "\n",
        "# prezzoingiusto\n",
        "prezzoingiusto_words = []\n",
        "prezzoingiusto_value = []\n",
        "\n",
        "for my_tuple in prezzoingiusto_ordered_words:\n",
        "  prezzoingiusto_words.append(my_tuple[0])\n",
        "  prezzoingiusto_value.append(my_tuple[1])\n",
        "\n",
        "\n",
        "# you can add more categories, if you like..."
      ],
      "metadata": {
        "id": "iYLHL44X9jO5"
      },
      "execution_count": 11,
      "outputs": []
    },
    {
      "cell_type": "code",
      "source": [
        "# cibobuono\n",
        "cibobuono_value = np.array(cibobuono_value)\n",
        "cibobuono_value = stats.zscore(cibobuono_value)\n",
        "\n",
        "cibobuono_df = pandas.DataFrame(list(zip(cibobuono_words, cibobuono_value)), \n",
        "               columns =['word', 'cibobuono'])\n",
        "\n",
        "cibobuono_df = cibobuono_df.sort_values('word', ascending=True)\n",
        "\n",
        "# cibononbuono\n",
        "cibononbuono_value = np.array(cibononbuono_value)\n",
        "cibononbuono_value = stats.zscore(cibononbuono_value)\n",
        "\n",
        "cibononbuono_df = pandas.DataFrame(list(zip(cibononbuono_words, cibononbuono_value)), \n",
        "               columns =['word', 'cibononbuono'])\n",
        "\n",
        "cibononbuono_df = cibononbuono_df.sort_values('word', ascending=True)\n",
        "\n",
        "# personaleprofessionale\n",
        "personaleprofessionale_value = np.array(personaleprofessionale_value)\n",
        "personaleprofessionale_value = stats.zscore(personaleprofessionale_value)\n",
        "\n",
        "personaleprofessionale_df = pandas.DataFrame(list(zip(personaleprofessionale_words, personaleprofessionale_value)), \n",
        "               columns =['word', 'personaleprofessionale'])\n",
        "\n",
        "personaleprofessionale_df = personaleprofessionale_df.sort_values('word', ascending=True)\n",
        "\n",
        "# localenonaccogliente\n",
        "localenonaccogliente_value = np.array(localenonaccogliente_value)\n",
        "localenonaccogliente_value = stats.zscore(localenonaccogliente_value)\n",
        "\n",
        "localenonaccogliente_df = pandas.DataFrame(list(zip(localenonaccogliente_words, localenonaccogliente_value)), \n",
        "               columns =['word', 'localenonaccogliente'])\n",
        "\n",
        "localenonaccogliente_df = localenonaccogliente_df.sort_values('word', ascending=True)\n",
        "\n",
        "# localeaccogliente\n",
        "localeaccogliente_value = np.array(localeaccogliente_value)\n",
        "localeaccogliente_value = stats.zscore(localeaccogliente_value)\n",
        "\n",
        "localeaccogliente_df = pandas.DataFrame(list(zip(localeaccogliente_words, localeaccogliente_value)), \n",
        "               columns =['word', 'localeaccogliente'])\n",
        "\n",
        "localeaccogliente_df = localeaccogliente_df.sort_values('word', ascending=True)\n",
        "\n",
        "# personalenonprofessionale\n",
        "personalenonprofessionale_value = np.array(personalenonprofessionale_value)\n",
        "personalenonprofessionale_value = stats.zscore(personalenonprofessionale_value)\n",
        "\n",
        "personalenonprofessionale_df = pandas.DataFrame(list(zip(personalenonprofessionale_words, personalenonprofessionale_value)), \n",
        "               columns =['word', 'personalenonprofessionale'])\n",
        "\n",
        "personalenonprofessionale_df = personalenonprofessionale_df.sort_values('word', ascending=True)\n",
        "\n",
        "# prezzogiusto\n",
        "prezzogiusto_value = np.array(prezzogiusto_value)\n",
        "prezzogiusto_value = stats.zscore(prezzogiusto_value)\n",
        "\n",
        "prezzogiusto_df = pandas.DataFrame(list(zip(prezzogiusto_words, prezzogiusto_value)), \n",
        "               columns =['word', 'prezzogiusto'])\n",
        "\n",
        "prezzogiusto_df = prezzogiusto_df.sort_values('word', ascending=True)\n",
        "\n",
        "# prezzoingiusto\n",
        "prezzoingiusto_value = np.array(prezzoingiusto_value)\n",
        "prezzoingiusto_value = stats.zscore(prezzoingiusto_value)\n",
        "\n",
        "prezzoingiusto_df = pandas.DataFrame(list(zip(prezzoingiusto_words, prezzoingiusto_value)), \n",
        "               columns =['word', 'prezzoingiusto'])\n",
        "\n",
        "prezzoingiusto_df = prezzoingiusto_df.sort_values('word', ascending=True)\n",
        "# you can add more categories, if you like..."
      ],
      "metadata": {
        "id": "F-Tm3117-F5g"
      },
      "execution_count": 12,
      "outputs": []
    },
    {
      "cell_type": "code",
      "source": [
        "# mout drive to save data table efficiently\n",
        "from google.colab import drive\n",
        "drive.mount('/content/drive')"
      ],
      "metadata": {
        "id": "Uy-1CU2Pxmzo",
        "outputId": "b09606f2-81f0-4419-ca5e-27c10edd3276",
        "colab": {
          "base_uri": "https://localhost:8080/"
        }
      },
      "execution_count": 13,
      "outputs": [
        {
          "output_type": "stream",
          "name": "stdout",
          "text": [
            "Mounted at /content/drive\n"
          ]
        }
      ]
    },
    {
      "cell_type": "code",
      "source": [
        "# save all to unique dataframe\n",
        "sa_df = personalenonprofessionale_df.merge(cibononbuono_df,on='word').merge(localeaccogliente_df,on='word').merge(personaleprofessionale_df,on='word').merge(cibobuono_df,on='word').merge(localenonaccogliente_df,on='word').merge(prezzogiusto_df,on='word').merge(prezzoingiusto_df,on='word')\n",
        "sa_df.to_csv('/content/drive/MyDrive/SA_SVM_dictionary_it.csv', index=False)"
      ],
      "metadata": {
        "id": "6QGOcsttxrk0"
      },
      "execution_count": 14,
      "outputs": []
    }
  ]
}